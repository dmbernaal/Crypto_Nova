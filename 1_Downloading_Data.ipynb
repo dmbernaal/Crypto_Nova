{
 "cells": [
  {
   "cell_type": "markdown",
   "metadata": {},
   "source": [
    "# Downloading Data\n",
    "In this notebook we will download historical data via the Bitfinex API. We will be following this article: https://medium.com/coinmonks/how-to-get-historical-crypto-currency-data-954062d40d2d\n",
    "\n",
    "but will make some alterations for our needs. \n",
    "\n",
    "We will be mining 1 year of data with each datapoint consisting of 30min timeframes. The data will be in the format of OHLCV which we will use to then create our candlestick chart dataset. \n",
    "\n",
    "This notebook will only be for mining data, the following will be used for the creation of our images & normalization. "
   ]
  },
  {
   "cell_type": "code",
   "execution_count": 1,
   "metadata": {},
   "outputs": [],
   "source": [
    "import bitfinex\n",
    "import pandas as pd\n",
    "import time\n",
    "import datetime"
   ]
  },
  {
   "cell_type": "code",
   "execution_count": 3,
   "metadata": {},
   "outputs": [],
   "source": [
    "# Creating a function to make several calls. \n",
    "# The API limits 60 calls a minute, but I have experienced lower amount of calls get reject\n",
    "# Those we will make a single call to the API every 5 seconds\n",
    "# Each call will retrieve one-weeks worth of data "
   ]
  },
  {
   "cell_type": "code",
   "execution_count": 31,
   "metadata": {},
   "outputs": [],
   "source": [
    "def fetch_data(start, stop, symbol, interval, tick_limit, step):\n",
    "    # instantiating instance\n",
    "    api_v2 = bitfinex.bitfinex_v2.api_v2()\n",
    "    data = [] # will hold all data\n",
    "    start = start - step\n",
    "    while start < stop:\n",
    "        # time window\n",
    "        start = start + step\n",
    "        end = start + step\n",
    "        \n",
    "        # getting data\n",
    "        res = api_v2.candles(symbol=symbol, interval=interval, limit=tick_limit, start=start, end=end)\n",
    "        data.extend(res)\n",
    "        time.sleep(5) # sleeping for 5 seconds\n",
    "        \n",
    "    # returning \n",
    "    return data"
   ]
  },
  {
   "cell_type": "code",
   "execution_count": 32,
   "metadata": {},
   "outputs": [],
   "source": [
    "m30 = 60000 * 30\n",
    "h1 = m30 * 2\n",
    "d1 = h1 * 24\n",
    "w1 = d1 * 7 # our timestep in miliseconds"
   ]
  },
  {
   "cell_type": "code",
   "execution_count": 39,
   "metadata": {},
   "outputs": [],
   "source": [
    "# Setting our hyper parameters\n",
    "time_step = w1\n",
    "\n",
    "# start and end\n",
    "t_start = datetime.datetime(2019, 5, 24, 0, 0)\n",
    "t_start = time.mktime(t_start.timetuple()) * 1000\n",
    "\n",
    "t_stop = datetime.datetime(2019, 6, 23, 0, 0)\n",
    "t_stop = time.mktime(t_stop.timetuple()) * 1000\n",
    "\n",
    "pair = 'btcusd'\n",
    "bin_size = '30m'\n",
    "\n",
    "limit = w1 / m30 # limit to a week of calls"
   ]
  },
  {
   "cell_type": "code",
   "execution_count": 40,
   "metadata": {},
   "outputs": [
    {
     "name": "stdout",
     "output_type": "stream",
     "text": [
      "No keys, only access to public API functions\n"
     ]
    }
   ],
   "source": [
    "# Making our call\n",
    "pair_data = fetch_data(start=t_start, stop=t_stop, symbol=pair, interval=bin_size, tick_limit=limit, step=time_step)"
   ]
  },
  {
   "cell_type": "markdown",
   "metadata": {},
   "source": [
    "## Second Attempt"
   ]
  },
  {
   "cell_type": "code",
   "execution_count": 2,
   "metadata": {},
   "outputs": [
    {
     "name": "stdout",
     "output_type": "stream",
     "text": [
      "No keys, only access to public API functions\n"
     ]
    }
   ],
   "source": [
    "api_v2 = bitfinex.bitfinex_v2.api_v2()"
   ]
  },
  {
   "cell_type": "code",
   "execution_count": 3,
   "metadata": {},
   "outputs": [],
   "source": [
    "# Parameters\n",
    "pair = 'btcusd'\n",
    "bin_size = '30m'\n",
    "limit = 5000"
   ]
  },
  {
   "cell_type": "code",
   "execution_count": 4,
   "metadata": {},
   "outputs": [],
   "source": [
    "# one\n",
    "t_start = datetime.datetime(2017, 1, 1, 0, 0)\n",
    "t_start = time.mktime(t_start.timetuple()) * 1000\n",
    "\n",
    "t_stop = datetime.datetime(2017, 3, 1, 0, 0)\n",
    "t_stop = time.mktime(t_stop.timetuple()) * 1000\n",
    "\n",
    "seg1 = api_v2.candles(symbol=pair, interval=bin_size, limit=limit, start=t_start, end=t_stop)"
   ]
  },
  {
   "cell_type": "code",
   "execution_count": 5,
   "metadata": {},
   "outputs": [],
   "source": [
    "# two\n",
    "t_start = datetime.datetime(2017, 3, 1, 0, 0)\n",
    "t_start = time.mktime(t_start.timetuple()) * 1000\n",
    "\n",
    "t_stop = datetime.datetime(2017, 5, 1, 0, 0)\n",
    "t_stop = time.mktime(t_stop.timetuple()) * 1000\n",
    "\n",
    "seg2 = api_v2.candles(symbol=pair, interval=bin_size, limit=limit, start=t_start, end=t_stop)"
   ]
  },
  {
   "cell_type": "code",
   "execution_count": 6,
   "metadata": {},
   "outputs": [],
   "source": [
    "# three\n",
    "t_start = datetime.datetime(2017, 5, 1, 0, 0)\n",
    "t_start = time.mktime(t_start.timetuple()) * 1000\n",
    "\n",
    "t_stop = datetime.datetime(2017, 7, 1, 0, 0)\n",
    "t_stop = time.mktime(t_stop.timetuple()) * 1000\n",
    "\n",
    "seg3 = api_v2.candles(symbol=pair, interval=bin_size, limit=limit, start=t_start, end=t_stop)"
   ]
  },
  {
   "cell_type": "code",
   "execution_count": 7,
   "metadata": {},
   "outputs": [],
   "source": [
    "# four\n",
    "t_start = datetime.datetime(2017, 7, 1, 0, 0)\n",
    "t_start = time.mktime(t_start.timetuple()) * 1000\n",
    "\n",
    "t_stop = datetime.datetime(2017, 9, 1, 0, 0)\n",
    "t_stop = time.mktime(t_stop.timetuple()) * 1000\n",
    "\n",
    "seg4 = api_v2.candles(symbol=pair, interval=bin_size, limit=limit, start=t_start, end=t_stop)"
   ]
  },
  {
   "cell_type": "code",
   "execution_count": 8,
   "metadata": {},
   "outputs": [],
   "source": [
    "# five\n",
    "t_start = datetime.datetime(2017, 9, 1, 0, 0)\n",
    "t_start = time.mktime(t_start.timetuple()) * 1000\n",
    "\n",
    "t_stop = datetime.datetime(2017, 11, 1, 0, 0)\n",
    "t_stop = time.mktime(t_stop.timetuple()) * 1000\n",
    "\n",
    "seg5 = api_v2.candles(symbol=pair, interval=bin_size, limit=limit, start=t_start, end=t_stop)"
   ]
  },
  {
   "cell_type": "code",
   "execution_count": 9,
   "metadata": {},
   "outputs": [],
   "source": [
    "# six\n",
    "t_start = datetime.datetime(2017, 11, 1, 0, 0)\n",
    "t_start = time.mktime(t_start.timetuple()) * 1000\n",
    "\n",
    "t_stop = datetime.datetime(2018, 1, 1, 0, 0)\n",
    "t_stop = time.mktime(t_stop.timetuple()) * 1000\n",
    "\n",
    "seg6 = api_v2.candles(symbol=pair, interval=bin_size, limit=limit, start=t_start, end=t_stop)"
   ]
  },
  {
   "cell_type": "code",
   "execution_count": 10,
   "metadata": {},
   "outputs": [],
   "source": [
    "# seven\n",
    "t_start = datetime.datetime(2018, 1, 1, 0, 0)\n",
    "t_start = time.mktime(t_start.timetuple()) * 1000\n",
    "\n",
    "t_stop = datetime.datetime(2018, 3, 1, 0, 0)\n",
    "t_stop = time.mktime(t_stop.timetuple()) * 1000\n",
    "\n",
    "seg7 = api_v2.candles(symbol=pair, interval=bin_size, limit=limit, start=t_start, end=t_stop)"
   ]
  },
  {
   "cell_type": "code",
   "execution_count": 11,
   "metadata": {},
   "outputs": [],
   "source": [
    "# eight\n",
    "t_start = datetime.datetime(2018, 3, 1, 0, 0)\n",
    "t_start = time.mktime(t_start.timetuple()) * 1000\n",
    "\n",
    "t_stop = datetime.datetime(2018, 5, 1, 0, 0)\n",
    "t_stop = time.mktime(t_stop.timetuple()) * 1000\n",
    "\n",
    "seg8 = api_v2.candles(symbol=pair, interval=bin_size, limit=limit, start=t_start, end=t_stop)"
   ]
  },
  {
   "cell_type": "code",
   "execution_count": 12,
   "metadata": {},
   "outputs": [],
   "source": [
    "# nine\n",
    "t_start = datetime.datetime(2018, 5, 1, 0, 0)\n",
    "t_start = time.mktime(t_start.timetuple()) * 1000\n",
    "\n",
    "t_stop = datetime.datetime(2018, 7, 1, 0, 0)\n",
    "t_stop = time.mktime(t_stop.timetuple()) * 1000\n",
    "\n",
    "seg9 = api_v2.candles(symbol=pair, interval=bin_size, limit=limit, start=t_start, end=t_stop)"
   ]
  },
  {
   "cell_type": "code",
   "execution_count": 13,
   "metadata": {},
   "outputs": [],
   "source": [
    "# ten\n",
    "t_start = datetime.datetime(2018, 7, 1, 0, 0)\n",
    "t_start = time.mktime(t_start.timetuple()) * 1000\n",
    "\n",
    "t_stop = datetime.datetime(2018, 9, 1, 0, 0)\n",
    "t_stop = time.mktime(t_stop.timetuple()) * 1000\n",
    "\n",
    "seg10 = api_v2.candles(symbol=pair, interval=bin_size, limit=limit, start=t_start, end=t_stop)"
   ]
  },
  {
   "cell_type": "code",
   "execution_count": 14,
   "metadata": {},
   "outputs": [],
   "source": [
    "# 11\n",
    "t_start = datetime.datetime(2018, 9, 1, 0, 0)\n",
    "t_start = time.mktime(t_start.timetuple()) * 1000\n",
    "\n",
    "t_stop = datetime.datetime(2018, 11, 1, 0, 0)\n",
    "t_stop = time.mktime(t_stop.timetuple()) * 1000\n",
    "\n",
    "seg11 = api_v2.candles(symbol=pair, interval=bin_size, limit=limit, start=t_start, end=t_stop)"
   ]
  },
  {
   "cell_type": "code",
   "execution_count": 15,
   "metadata": {},
   "outputs": [],
   "source": [
    "# 12\n",
    "t_start = datetime.datetime(2018, 11, 1, 0, 0)\n",
    "t_start = time.mktime(t_start.timetuple()) * 1000\n",
    "\n",
    "t_stop = datetime.datetime(2019, 1, 1, 0, 0)\n",
    "t_stop = time.mktime(t_stop.timetuple()) * 1000\n",
    "\n",
    "seg12 = api_v2.candles(symbol=pair, interval=bin_size, limit=limit, start=t_start, end=t_stop)"
   ]
  },
  {
   "cell_type": "code",
   "execution_count": 16,
   "metadata": {},
   "outputs": [],
   "source": [
    "# 13\n",
    "t_start = datetime.datetime(2019, 1, 1, 0, 0)\n",
    "t_start = time.mktime(t_start.timetuple()) * 1000\n",
    "\n",
    "t_stop = datetime.datetime(2019, 3, 1, 0, 0)\n",
    "t_stop = time.mktime(t_stop.timetuple()) * 1000\n",
    "\n",
    "seg13 = api_v2.candles(symbol=pair, interval=bin_size, limit=limit, start=t_start, end=t_stop)"
   ]
  },
  {
   "cell_type": "code",
   "execution_count": 17,
   "metadata": {},
   "outputs": [],
   "source": [
    "# 14\n",
    "t_start = datetime.datetime(2019, 3, 1, 0, 0)\n",
    "t_start = time.mktime(t_start.timetuple()) * 1000\n",
    "\n",
    "t_stop = datetime.datetime(2019, 5, 1, 0, 0)\n",
    "t_stop = time.mktime(t_stop.timetuple()) * 1000\n",
    "\n",
    "seg14 = api_v2.candles(symbol=pair, interval=bin_size, limit=limit, start=t_start, end=t_stop)"
   ]
  },
  {
   "cell_type": "code",
   "execution_count": 18,
   "metadata": {},
   "outputs": [],
   "source": [
    "# 15\n",
    "t_start = datetime.datetime(2019, 5, 1, 0, 0)\n",
    "t_start = time.mktime(t_start.timetuple()) * 1000\n",
    "\n",
    "t_stop = datetime.datetime(2019, 7, 1, 0, 0)\n",
    "t_stop = time.mktime(t_stop.timetuple()) * 1000\n",
    "\n",
    "seg15 = api_v2.candles(symbol=pair, interval=bin_size, limit=limit, start=t_start, end=t_stop)"
   ]
  },
  {
   "cell_type": "code",
   "execution_count": 19,
   "metadata": {},
   "outputs": [],
   "source": [
    "# Load each into a pandas dataframe\n",
    "names = ['time', 'open', 'close', 'high', 'low', 'volume']\n",
    "\n",
    "df1 = pd.DataFrame(seg1, columns=names)\n",
    "df2 = pd.DataFrame(seg2, columns=names)\n",
    "df3 = pd.DataFrame(seg3, columns=names)\n",
    "df4 = pd.DataFrame(seg4, columns=names)\n",
    "df5 = pd.DataFrame(seg5, columns=names)\n",
    "df6 = pd.DataFrame(seg6, columns=names)\n",
    "df7 = pd.DataFrame(seg7, columns=names)\n",
    "df8 = pd.DataFrame(seg8, columns=names)\n",
    "df9 = pd.DataFrame(seg9, columns=names)\n",
    "df10 = pd.DataFrame(seg10, columns=names)\n",
    "df11 = pd.DataFrame(seg11, columns=names)\n",
    "df12 = pd.DataFrame(seg12, columns=names)\n",
    "df13 = pd.DataFrame(seg13, columns=names)\n",
    "df14 = pd.DataFrame(seg14, columns=names)"
   ]
  },
  {
   "cell_type": "code",
   "execution_count": 20,
   "metadata": {},
   "outputs": [],
   "source": [
    "# concatting all dataframes\n",
    "datastore = pd.concat([df1, df2, df3, df4, df5, df6, df7, df8, df9, df10, df11, df12, df13, df14], ignore_index=True)"
   ]
  },
  {
   "cell_type": "code",
   "execution_count": 21,
   "metadata": {},
   "outputs": [
    {
     "name": "stdout",
     "output_type": "stream",
     "text": [
      "<class 'pandas.core.frame.DataFrame'>\n",
      "RangeIndex: 40797 entries, 0 to 40796\n",
      "Data columns (total 6 columns):\n",
      "time      40797 non-null int64\n",
      "open      40797 non-null float64\n",
      "close     40797 non-null float64\n",
      "high      40797 non-null float64\n",
      "low       40797 non-null float64\n",
      "volume    40797 non-null float64\n",
      "dtypes: float64(5), int64(1)\n",
      "memory usage: 1.9 MB\n"
     ]
    }
   ],
   "source": [
    "datastore.info()"
   ]
  },
  {
   "cell_type": "code",
   "execution_count": 22,
   "metadata": {},
   "outputs": [],
   "source": [
    "# Dropping duplicates\n",
    "datastore.drop_duplicates(inplace=True)"
   ]
  },
  {
   "cell_type": "code",
   "execution_count": 23,
   "metadata": {},
   "outputs": [
    {
     "name": "stdout",
     "output_type": "stream",
     "text": [
      "<class 'pandas.core.frame.DataFrame'>\n",
      "Int64Index: 40784 entries, 0 to 40795\n",
      "Data columns (total 6 columns):\n",
      "time      40784 non-null int64\n",
      "open      40784 non-null float64\n",
      "close     40784 non-null float64\n",
      "high      40784 non-null float64\n",
      "low       40784 non-null float64\n",
      "volume    40784 non-null float64\n",
      "dtypes: float64(5), int64(1)\n",
      "memory usage: 2.2 MB\n"
     ]
    }
   ],
   "source": [
    "datastore.info()"
   ]
  },
  {
   "cell_type": "code",
   "execution_count": 24,
   "metadata": {},
   "outputs": [],
   "source": [
    "# Set index as time and sort asscendingly\n",
    "datastore['time'] = pd.to_datetime(datastore['time'], unit='ms')\n",
    "datastore.set_index('time', inplace=True)\n",
    "datastore.sort_index(inplace=True)\n",
    "datastore.reset_index(inplace=True)"
   ]
  },
  {
   "cell_type": "code",
   "execution_count": 25,
   "metadata": {},
   "outputs": [
    {
     "data": {
      "text/html": [
       "<div>\n",
       "<style scoped>\n",
       "    .dataframe tbody tr th:only-of-type {\n",
       "        vertical-align: middle;\n",
       "    }\n",
       "\n",
       "    .dataframe tbody tr th {\n",
       "        vertical-align: top;\n",
       "    }\n",
       "\n",
       "    .dataframe thead th {\n",
       "        text-align: right;\n",
       "    }\n",
       "</style>\n",
       "<table border=\"1\" class=\"dataframe\">\n",
       "  <thead>\n",
       "    <tr style=\"text-align: right;\">\n",
       "      <th></th>\n",
       "      <th>time</th>\n",
       "      <th>open</th>\n",
       "      <th>close</th>\n",
       "      <th>high</th>\n",
       "      <th>low</th>\n",
       "      <th>volume</th>\n",
       "    </tr>\n",
       "  </thead>\n",
       "  <tbody>\n",
       "    <tr>\n",
       "      <th>0</th>\n",
       "      <td>2017-01-01 05:00:00</td>\n",
       "      <td>962.98</td>\n",
       "      <td>962.98</td>\n",
       "      <td>963.00</td>\n",
       "      <td>962.11</td>\n",
       "      <td>29.466950</td>\n",
       "    </tr>\n",
       "    <tr>\n",
       "      <th>1</th>\n",
       "      <td>2017-01-01 05:30:00</td>\n",
       "      <td>962.90</td>\n",
       "      <td>964.88</td>\n",
       "      <td>965.20</td>\n",
       "      <td>962.56</td>\n",
       "      <td>61.575102</td>\n",
       "    </tr>\n",
       "    <tr>\n",
       "      <th>2</th>\n",
       "      <td>2017-01-01 06:00:00</td>\n",
       "      <td>963.90</td>\n",
       "      <td>962.83</td>\n",
       "      <td>964.95</td>\n",
       "      <td>962.72</td>\n",
       "      <td>27.068546</td>\n",
       "    </tr>\n",
       "    <tr>\n",
       "      <th>3</th>\n",
       "      <td>2017-01-01 06:30:00</td>\n",
       "      <td>963.49</td>\n",
       "      <td>967.45</td>\n",
       "      <td>967.45</td>\n",
       "      <td>963.36</td>\n",
       "      <td>78.595934</td>\n",
       "    </tr>\n",
       "    <tr>\n",
       "      <th>4</th>\n",
       "      <td>2017-01-01 07:00:00</td>\n",
       "      <td>966.48</td>\n",
       "      <td>966.67</td>\n",
       "      <td>967.41</td>\n",
       "      <td>966.48</td>\n",
       "      <td>21.279508</td>\n",
       "    </tr>\n",
       "  </tbody>\n",
       "</table>\n",
       "</div>"
      ],
      "text/plain": [
       "                 time    open   close    high     low     volume\n",
       "0 2017-01-01 05:00:00  962.98  962.98  963.00  962.11  29.466950\n",
       "1 2017-01-01 05:30:00  962.90  964.88  965.20  962.56  61.575102\n",
       "2 2017-01-01 06:00:00  963.90  962.83  964.95  962.72  27.068546\n",
       "3 2017-01-01 06:30:00  963.49  967.45  967.45  963.36  78.595934\n",
       "4 2017-01-01 07:00:00  966.48  966.67  967.41  966.48  21.279508"
      ]
     },
     "execution_count": 25,
     "metadata": {},
     "output_type": "execute_result"
    }
   ],
   "source": [
    "# let's check if it works\n",
    "datastore.head()"
   ]
  },
  {
   "cell_type": "code",
   "execution_count": 26,
   "metadata": {},
   "outputs": [
    {
     "data": {
      "text/html": [
       "<div>\n",
       "<style scoped>\n",
       "    .dataframe tbody tr th:only-of-type {\n",
       "        vertical-align: middle;\n",
       "    }\n",
       "\n",
       "    .dataframe tbody tr th {\n",
       "        vertical-align: top;\n",
       "    }\n",
       "\n",
       "    .dataframe thead th {\n",
       "        text-align: right;\n",
       "    }\n",
       "</style>\n",
       "<table border=\"1\" class=\"dataframe\">\n",
       "  <thead>\n",
       "    <tr style=\"text-align: right;\">\n",
       "      <th></th>\n",
       "      <th>time</th>\n",
       "      <th>open</th>\n",
       "      <th>close</th>\n",
       "      <th>high</th>\n",
       "      <th>low</th>\n",
       "      <th>volume</th>\n",
       "    </tr>\n",
       "  </thead>\n",
       "  <tbody>\n",
       "    <tr>\n",
       "      <th>40779</th>\n",
       "      <td>2019-05-01 02:00:00</td>\n",
       "      <td>5619.370256</td>\n",
       "      <td>5632.20000</td>\n",
       "      <td>5643.0</td>\n",
       "      <td>5619.258079</td>\n",
       "      <td>289.576023</td>\n",
       "    </tr>\n",
       "    <tr>\n",
       "      <th>40780</th>\n",
       "      <td>2019-05-01 02:30:00</td>\n",
       "      <td>5632.300000</td>\n",
       "      <td>5620.60000</td>\n",
       "      <td>5632.3</td>\n",
       "      <td>5620.600000</td>\n",
       "      <td>84.910372</td>\n",
       "    </tr>\n",
       "    <tr>\n",
       "      <th>40781</th>\n",
       "      <td>2019-05-01 03:00:00</td>\n",
       "      <td>5622.300000</td>\n",
       "      <td>5619.30000</td>\n",
       "      <td>5629.7</td>\n",
       "      <td>5615.100000</td>\n",
       "      <td>50.869072</td>\n",
       "    </tr>\n",
       "    <tr>\n",
       "      <th>40782</th>\n",
       "      <td>2019-05-01 03:30:00</td>\n",
       "      <td>5619.300000</td>\n",
       "      <td>5619.10000</td>\n",
       "      <td>5623.0</td>\n",
       "      <td>5591.900000</td>\n",
       "      <td>229.368454</td>\n",
       "    </tr>\n",
       "    <tr>\n",
       "      <th>40783</th>\n",
       "      <td>2019-05-01 04:00:00</td>\n",
       "      <td>5619.100000</td>\n",
       "      <td>5625.08833</td>\n",
       "      <td>5625.1</td>\n",
       "      <td>5615.700000</td>\n",
       "      <td>66.739223</td>\n",
       "    </tr>\n",
       "  </tbody>\n",
       "</table>\n",
       "</div>"
      ],
      "text/plain": [
       "                     time         open       close    high          low  \\\n",
       "40779 2019-05-01 02:00:00  5619.370256  5632.20000  5643.0  5619.258079   \n",
       "40780 2019-05-01 02:30:00  5632.300000  5620.60000  5632.3  5620.600000   \n",
       "40781 2019-05-01 03:00:00  5622.300000  5619.30000  5629.7  5615.100000   \n",
       "40782 2019-05-01 03:30:00  5619.300000  5619.10000  5623.0  5591.900000   \n",
       "40783 2019-05-01 04:00:00  5619.100000  5625.08833  5625.1  5615.700000   \n",
       "\n",
       "           volume  \n",
       "40779  289.576023  \n",
       "40780   84.910372  \n",
       "40781   50.869072  \n",
       "40782  229.368454  \n",
       "40783   66.739223  "
      ]
     },
     "execution_count": 26,
     "metadata": {},
     "output_type": "execute_result"
    }
   ],
   "source": [
    "datastore.tail()"
   ]
  },
  {
   "cell_type": "code",
   "execution_count": 27,
   "metadata": {},
   "outputs": [],
   "source": [
    "# Eveyrthing looks good, let's save it! \n",
    "import os"
   ]
  },
  {
   "cell_type": "code",
   "execution_count": 28,
   "metadata": {},
   "outputs": [],
   "source": [
    "file_name = 'btcusd_ohlc_2017_2019.csv'\n",
    "path = './post_processing/'\n",
    "\n",
    "datastore.to_csv(f'{path}/{file_name}', index=False)"
   ]
  },
  {
   "cell_type": "code",
   "execution_count": null,
   "metadata": {},
   "outputs": [],
   "source": []
  },
  {
   "cell_type": "code",
   "execution_count": null,
   "metadata": {},
   "outputs": [],
   "source": []
  },
  {
   "cell_type": "code",
   "execution_count": null,
   "metadata": {},
   "outputs": [],
   "source": []
  },
  {
   "cell_type": "code",
   "execution_count": null,
   "metadata": {},
   "outputs": [],
   "source": []
  },
  {
   "cell_type": "code",
   "execution_count": null,
   "metadata": {},
   "outputs": [],
   "source": []
  },
  {
   "cell_type": "code",
   "execution_count": null,
   "metadata": {},
   "outputs": [],
   "source": []
  },
  {
   "cell_type": "code",
   "execution_count": null,
   "metadata": {},
   "outputs": [],
   "source": []
  },
  {
   "cell_type": "code",
   "execution_count": null,
   "metadata": {},
   "outputs": [],
   "source": []
  },
  {
   "cell_type": "code",
   "execution_count": null,
   "metadata": {},
   "outputs": [],
   "source": []
  },
  {
   "cell_type": "code",
   "execution_count": null,
   "metadata": {},
   "outputs": [],
   "source": []
  },
  {
   "cell_type": "code",
   "execution_count": null,
   "metadata": {},
   "outputs": [],
   "source": []
  },
  {
   "cell_type": "code",
   "execution_count": null,
   "metadata": {},
   "outputs": [],
   "source": []
  },
  {
   "cell_type": "code",
   "execution_count": null,
   "metadata": {},
   "outputs": [],
   "source": []
  },
  {
   "cell_type": "code",
   "execution_count": null,
   "metadata": {},
   "outputs": [],
   "source": []
  },
  {
   "cell_type": "code",
   "execution_count": null,
   "metadata": {},
   "outputs": [],
   "source": []
  },
  {
   "cell_type": "code",
   "execution_count": null,
   "metadata": {},
   "outputs": [],
   "source": []
  },
  {
   "cell_type": "code",
   "execution_count": null,
   "metadata": {},
   "outputs": [],
   "source": []
  },
  {
   "cell_type": "code",
   "execution_count": null,
   "metadata": {},
   "outputs": [],
   "source": []
  },
  {
   "cell_type": "code",
   "execution_count": null,
   "metadata": {},
   "outputs": [],
   "source": []
  },
  {
   "cell_type": "code",
   "execution_count": null,
   "metadata": {},
   "outputs": [],
   "source": []
  },
  {
   "cell_type": "code",
   "execution_count": null,
   "metadata": {},
   "outputs": [],
   "source": []
  },
  {
   "cell_type": "code",
   "execution_count": null,
   "metadata": {},
   "outputs": [],
   "source": []
  }
 ],
 "metadata": {
  "kernelspec": {
   "display_name": "Python 3",
   "language": "python",
   "name": "python3"
  },
  "language_info": {
   "codemirror_mode": {
    "name": "ipython",
    "version": 3
   },
   "file_extension": ".py",
   "mimetype": "text/x-python",
   "name": "python",
   "nbconvert_exporter": "python",
   "pygments_lexer": "ipython3",
   "version": "3.6.8"
  }
 },
 "nbformat": 4,
 "nbformat_minor": 2
}
