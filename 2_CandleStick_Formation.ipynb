{
 "cells": [
  {
   "cell_type": "markdown",
   "metadata": {},
   "source": [
    "# Candlestick Formation\n",
    "In this notebook, we will take the data we have farmed via Bitfinex API and will be converting our data into candle-stick formation images. \n",
    "\n",
    "The very first part of this notebook will be to test the functionality with a small subset of the data. \n",
    "\n",
    "Then we will form both a window & label algorithm which will be used to create window images labelled for our classification task. \n",
    "\n",
    "Each window will be composed of 15, 30 min intervals which will be labeled according to the 20th (5 points preceeding our window) opening price. \n",
    "\n",
    "That is: \n",
    "\n",
    "```python\n",
    "if open_of_20th > close_of_15th_by_3_percent:\n",
    "    label = 'buy'\n",
    "elif open_of_20th < close_of_15th:\n",
    "    label = 'sell'\n",
    "else:\n",
    "    label = 'hold'\n",
    "```\n",
    "\n",
    "Given the nature of BTC/USD and most cryptocurrencies, labeling with aggresive moves may be a good strategy.\n",
    "\n",
    "In fact, our labeling algorithm will greatly impact the overall trading strategy, thus we may revisit this in the future for optimization. "
   ]
  },
  {
   "cell_type": "code",
   "execution_count": 4,
   "metadata": {},
   "outputs": [],
   "source": [
    "import datetime as dt\n",
    "import matplotlib.dates as mdates\n",
    "import matplotlib.pyplot as plt\n",
    "\n",
    "from mpl_finance import candlestick_ohlc\n",
    "import pandas as pd"
   ]
  },
  {
   "cell_type": "code",
   "execution_count": 22,
   "metadata": {},
   "outputs": [],
   "source": [
    "# Loading our data\n",
    "file = './post_processing/btcusd_ohlc_2017_2019.csv'\n",
    "\n",
    "df = pd.read_csv(file)"
   ]
  },
  {
   "cell_type": "code",
   "execution_count": 23,
   "metadata": {},
   "outputs": [],
   "source": [
    "# convert to datetime object\n",
    "df['time'] = pd.to_datetime(df['time'])\n",
    "\n",
    "# Convert again - for matplotlib\n",
    "df['time'] = df['time'].map(mdates.date2num)"
   ]
  },
  {
   "cell_type": "code",
   "execution_count": 24,
   "metadata": {},
   "outputs": [],
   "source": [
    "# rearrange\n",
    "df = df[['time', 'open', 'high', 'low', 'close', 'volume']]"
   ]
  },
  {
   "cell_type": "code",
   "execution_count": 36,
   "metadata": {},
   "outputs": [
    {
     "data": {
      "image/png": "[encoded data removed]",
      "text/plain": [
       "<Figure size 432x288 with 1 Axes>"
      ]
     },
     "metadata": {
      "needs_background": "light"
     },
     "output_type": "display_data"
    }
   ],
   "source": [
    "# Plotting a single point\n",
    "test_frame = df.iloc[0:15] # 15 days\n",
    "\n",
    "ax = plt.subplot()\n",
    "candlestick_ohlc(ax, test_frame.values, width=0.012, colorup='g', colordown='r')\n",
    "plt.axis('off')\n",
    "plt.show()"
   ]
  },
  {
   "cell_type": "code",
   "execution_count": null,
   "metadata": {},
   "outputs": [],
   "source": []
  },
  {
   "cell_type": "code",
   "execution_count": null,
   "metadata": {},
   "outputs": [],
   "source": []
  },
  {
   "cell_type": "code",
   "execution_count": null,
   "metadata": {},
   "outputs": [],
   "source": []
  },
  {
   "cell_type": "code",
   "execution_count": null,
   "metadata": {},
   "outputs": [],
   "source": []
  },
  {
   "cell_type": "code",
   "execution_count": null,
   "metadata": {},
   "outputs": [],
   "source": []
  },
  {
   "cell_type": "code",
   "execution_count": null,
   "metadata": {},
   "outputs": [],
   "source": []
  }
 ],
 "metadata": {
  "kernelspec": {
   "display_name": "Python 3",
   "language": "python",
   "name": "python3"
  },
  "language_info": {
   "codemirror_mode": {
    "name": "ipython",
    "version": 3
   },
   "file_extension": ".py",
   "mimetype": "text/x-python",
   "name": "python",
   "nbconvert_exporter": "python",
   "pygments_lexer": "ipython3",
   "version": "3.6.8"
  }
 },
 "nbformat": 4,
 "nbformat_minor": 2
}
